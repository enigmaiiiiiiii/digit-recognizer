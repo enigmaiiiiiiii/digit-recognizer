{
 "cells": [
  {
   "cell_type": "code",
   "execution_count": 62,
   "id": "pending-printer",
   "metadata": {
    "ExecuteTime": {
     "end_time": "2021-02-14T04:14:55.546584Z",
     "start_time": "2021-02-14T04:14:52.858860Z"
    }
   },
   "outputs": [],
   "source": [
    "import numpy as np\n",
    "import matplotlib.pyplot as plt\n",
    "import pandas as pd\n",
    "train_data = pd.read_csv(r'D:/JupyterProject/digit-recognizer/train.csv')\n",
    "test_data = pd.read_csv(r'D:/JupyterProject/digit-recognizer/test.csv')"
   ]
  },
  {
   "cell_type": "code",
   "execution_count": 99,
   "id": "lucky-horizon",
   "metadata": {
    "ExecuteTime": {
     "end_time": "2021-02-14T05:48:10.834880Z",
     "start_time": "2021-02-14T05:48:10.830874Z"
    }
   },
   "outputs": [],
   "source": [
    "from sklearn.base import BaseEstimator, TransformerMixin, RegressorMixin, clone\n",
    "from sklearn.preprocessing import LabelEncoder\n",
    "from sklearn.metrics import mean_squared_error\n",
    "from sklearn.pipeline import Pipeline, make_pipeline\n",
    "from sklearn.model_selection import cross_val_score, GridSearchCV, KFold\n",
    "from sklearn.ensemble import RandomForestClassifier\n",
    "from sklearn.naive_bayes import CategoricalNB\n",
    "from xgboost import XGBClassifier"
   ]
  },
  {
   "cell_type": "code",
   "execution_count": 107,
   "id": "assigned-transparency",
   "metadata": {
    "ExecuteTime": {
     "end_time": "2021-02-14T05:56:18.773808Z",
     "start_time": "2021-02-14T05:56:18.548358Z"
    }
   },
   "outputs": [],
   "source": [
    "X_train = train_data.drop(columns='label')\n",
    "y = train_data.label\n",
    "X_train = X_train/255\n",
    "\n",
    "X_test = test_data\n",
    "X_test = X_test/255"
   ]
  },
  {
   "cell_type": "code",
   "execution_count": 127,
   "id": "interstate-cleveland",
   "metadata": {
    "ExecuteTime": {
     "end_time": "2021-02-14T06:46:02.651904Z",
     "start_time": "2021-02-14T06:46:02.645903Z"
    }
   },
   "outputs": [],
   "source": [
    "class modelSelector:\n",
    "\n",
    "    \"\"\"\n",
    "    score= 'neg_mean_squared_error'\n",
    "           'accuracy'\n",
    "    \"\"\"\n",
    "    kf = KFold(n_splits=5, shuffle=True)\n",
    "\n",
    "    def __init__(self, model_dict, score):\n",
    "        self.model_dict = model_dict\n",
    "        self.score = score\n",
    "\n",
    "    def single_model(self,model_name,X,y):\n",
    "\n",
    "        gridsearch = GridSearchCV(self.model_dict[model_name][0],\n",
    "                                  self.model_dict[model_name][1],\n",
    "                                  scoring=self.score,\n",
    "                                  n_jobs=-1,\n",
    "                                  cv=self.kf)\n",
    "        gridsearch.fit(X, y)\n",
    "        print(model_name, gridsearch.best_params_, gridsearch.best_score_)\n",
    "\n",
    "    def model_cross_score(self, X, y):\n",
    "\n",
    "        for i in model_dict:\n",
    "            gridsearch = GridSearchCV(self.model_dict[i][0],\n",
    "                                      self.model_dict[i][1],\n",
    "                                      scoring=self.score,\n",
    "                                      n_jobs=-1,\n",
    "                                      cv=self.kf)\n",
    "            gridsearch.fit(X, y)\n",
    "            print(i, gridsearch.best_params_, gridsearch.best_score_)"
   ]
  },
  {
   "cell_type": "code",
   "execution_count": 130,
   "id": "metropolitan-gossip",
   "metadata": {
    "ExecuteTime": {
     "end_time": "2021-02-14T06:50:07.960551Z",
     "start_time": "2021-02-14T06:50:07.956534Z"
    }
   },
   "outputs": [],
   "source": [
    "model_dict1 = {\n",
    "    'RFC': [RandomForestClassifier(), {'n_estimators': [20, 50, 100]}],\n",
    "    'svc': [SVC(), {'gamma': ['scale', 'auto']}],\n",
    "    'BRC': [CategoricalNB(), {}],\n",
    "    'ELN': [ElasticNet(), {}],\n",
    "    'XG': [XGBClassifier(), {}]\n",
    "}\n",
    "modelselecter1 = modelSelector(model_dict1,'accuracy')\n",
    "modelselecter3 = "
   ]
  },
  {
   "cell_type": "code",
   "execution_count": 126,
   "id": "respiratory-affect",
   "metadata": {
    "ExecuteTime": {
     "end_time": "2021-02-14T06:37:07.115574Z",
     "start_time": "2021-02-14T06:35:54.408448Z"
    }
   },
   "outputs": [
    {
     "name": "stdout",
     "output_type": "stream",
     "text": [
      "RFC {'n_estimators': 100} 0.9638809523809524\n"
     ]
    }
   ],
   "source": [
    "modelselecter1.single_model('RFC',X_train,y)"
   ]
  },
  {
   "cell_type": "code",
   "execution_count": 131,
   "id": "coordinate-desktop",
   "metadata": {
    "ExecuteTime": {
     "end_time": "2021-02-14T07:05:24.813596Z",
     "start_time": "2021-02-14T06:50:15.653405Z"
    }
   },
   "outputs": [
    {
     "name": "stdout",
     "output_type": "stream",
     "text": [
      "svc {'gamma': 'scale'} 0.9754761904761905\n"
     ]
    }
   ],
   "source": [
    "modelselecter1.single_model('svc',X_train,y)"
   ]
  },
  {
   "cell_type": "code",
   "execution_count": 172,
   "id": "imported-channel",
   "metadata": {
    "ExecuteTime": {
     "end_time": "2021-02-14T09:09:24.363343Z",
     "start_time": "2021-02-14T09:03:18.581002Z"
    }
   },
   "outputs": [
    {
     "data": {
      "text/plain": [
       "array([2, 0, 9, ..., 3, 9, 2], dtype=int64)"
      ]
     },
     "execution_count": 172,
     "metadata": {},
     "output_type": "execute_result"
    }
   ],
   "source": [
    "premodel = XGBClassifier(,n_jobs = -1).fit(X_train,y)\n",
    "premodel.predict(X_test)"
   ]
  },
  {
   "cell_type": "code",
   "execution_count": 173,
   "id": "subject-sherman",
   "metadata": {
    "ExecuteTime": {
     "end_time": "2021-02-14T09:10:06.679839Z",
     "start_time": "2021-02-14T09:10:05.320166Z"
    }
   },
   "outputs": [],
   "source": [
    "predict_y = premodel.predict(X_test)"
   ]
  },
  {
   "cell_type": "code",
   "execution_count": 201,
   "id": "stock-iceland",
   "metadata": {
    "ExecuteTime": {
     "end_time": "2021-02-14T10:01:49.345074Z",
     "start_time": "2021-02-14T09:58:43.349785Z"
    }
   },
   "outputs": [
    {
     "ename": "NameError",
     "evalue": "name 'premodel2' is not defined",
     "output_type": "error",
     "traceback": [
      "\u001b[1;31m---------------------------------------------------------------------------\u001b[0m",
      "\u001b[1;31mNameError\u001b[0m                                 Traceback (most recent call last)",
      "\u001b[1;32m<ipython-input-201-177a51d29788>\u001b[0m in \u001b[0;36m<module>\u001b[1;34m\u001b[0m\n\u001b[0;32m      1\u001b[0m \u001b[0mpremode2\u001b[0m \u001b[1;33m=\u001b[0m \u001b[0mSVC\u001b[0m\u001b[1;33m(\u001b[0m\u001b[0mgamma\u001b[0m\u001b[1;33m=\u001b[0m\u001b[1;34m'scale'\u001b[0m\u001b[1;33m)\u001b[0m\u001b[1;33m.\u001b[0m\u001b[0mfit\u001b[0m\u001b[1;33m(\u001b[0m\u001b[0mX_train\u001b[0m\u001b[1;33m,\u001b[0m\u001b[0my\u001b[0m\u001b[1;33m)\u001b[0m\u001b[1;33m\u001b[0m\u001b[1;33m\u001b[0m\u001b[0m\n\u001b[1;32m----> 2\u001b[1;33m \u001b[0mpredict_y2\u001b[0m \u001b[1;33m=\u001b[0m \u001b[0mpremodel2\u001b[0m\u001b[1;33m.\u001b[0m\u001b[0mpredict\u001b[0m\u001b[1;33m(\u001b[0m\u001b[0mX_test\u001b[0m\u001b[1;33m)\u001b[0m\u001b[1;33m\u001b[0m\u001b[1;33m\u001b[0m\u001b[0m\n\u001b[0m",
      "\u001b[1;31mNameError\u001b[0m: name 'premodel2' is not defined"
     ]
    }
   ],
   "source": [
    "premode2 = SVC(gamma='scale').fit(X_train,y)\n",
    "predict_y2 = premode2.predict(X_test)"
   ]
  },
  {
   "cell_type": "code",
   "execution_count": 202,
   "id": "written-paris",
   "metadata": {
    "ExecuteTime": {
     "end_time": "2021-02-14T10:08:27.463667Z",
     "start_time": "2021-02-14T10:05:16.763108Z"
    }
   },
   "outputs": [],
   "source": [
    "predict_y2 = premode2.predict(X_test)"
   ]
  },
  {
   "cell_type": "code",
   "execution_count": 148,
   "id": "boring-garden",
   "metadata": {
    "ExecuteTime": {
     "end_time": "2021-02-14T07:24:51.021856Z",
     "start_time": "2021-02-14T07:24:50.982169Z"
    }
   },
   "outputs": [
    {
     "name": "stdout",
     "output_type": "stream",
     "text": [
      "1.0\n",
      "   pixel0  pixel1  pixel2  pixel3  pixel4  pixel5  pixel6  pixel7  pixel8  \\\n",
      "0     0.0     0.0     0.0     0.0     0.0     0.0     0.0     0.0     0.0   \n",
      "1     0.0     0.0     0.0     0.0     0.0     0.0     0.0     0.0     0.0   \n",
      "2     0.0     0.0     0.0     0.0     0.0     0.0     0.0     0.0     0.0   \n",
      "3     0.0     0.0     0.0     0.0     0.0     0.0     0.0     0.0     0.0   \n",
      "4     0.0     0.0     0.0     0.0     0.0     0.0     0.0     0.0     0.0   \n",
      "\n",
      "   pixel9  ...  pixel774  pixel775  pixel776  pixel777  pixel778  pixel779  \\\n",
      "0     0.0  ...       0.0       0.0       0.0       0.0       0.0       0.0   \n",
      "1     0.0  ...       0.0       0.0       0.0       0.0       0.0       0.0   \n",
      "2     0.0  ...       0.0       0.0       0.0       0.0       0.0       0.0   \n",
      "3     0.0  ...       0.0       0.0       0.0       0.0       0.0       0.0   \n",
      "4     0.0  ...       0.0       0.0       0.0       0.0       0.0       0.0   \n",
      "\n",
      "   pixel780  pixel781  pixel782  pixel783  \n",
      "0       0.0       0.0       0.0       0.0  \n",
      "1       0.0       0.0       0.0       0.0  \n",
      "2       0.0       0.0       0.0       0.0  \n",
      "3       0.0       0.0       0.0       0.0  \n",
      "4       0.0       0.0       0.0       0.0  \n",
      "\n",
      "[5 rows x 784 columns]\n"
     ]
    }
   ],
   "source": [
    "print(X_test.max().max())\n",
    "print(X_train.head())"
   ]
  },
  {
   "cell_type": "code",
   "execution_count": null,
   "id": "ongoing-parallel",
   "metadata": {
    "ExecuteTime": {
     "start_time": "2021-02-14T14:23:17.347Z"
    }
   },
   "outputs": [],
   "source": [
    "random_index = np.random.randint(0, 28000, 16)\n",
    "fig, axes = plt.subplots(4, 4, figsize=(8, 8),\n",
    "                         subplot_kw={'xticks': [], 'yticks': []},\n",
    "                         gridspec_kw=dict(hspace=0.1, wspace=0.1))\n",
    "for i, ax in enumerate(axes.flat):\n",
    "    ax.imshow(X_test.iloc[random_index[i]].values.reshape(28,28), cmap='binary', interpolation='nearest')\n",
    "    ax.text(0.05, 0.05, str(predict_y2[random_index[i]]),\n",
    "                transform=ax.transAxes, size = 40,color='black')\n",
    "\n"
   ]
  },
  {
   "cell_type": "code",
   "execution_count": 209,
   "id": "mysterious-penetration",
   "metadata": {
    "ExecuteTime": {
     "end_time": "2021-02-14T10:10:00.458175Z",
     "start_time": "2021-02-14T10:10:00.394416Z"
    }
   },
   "outputs": [],
   "source": [
    "sub = pd.read_csv(r'D:/JupyterProject/digit-recognizer/sample_submission.csv')\n",
    "sub['Label'] = predict_y\n",
    "sub.to_csv(r'D:/JupyterProject/digit-recognizer/sample_submission2.csv')"
   ]
  },
  {
   "cell_type": "code",
   "execution_count": null,
   "id": "olympic-burke",
   "metadata": {},
   "outputs": [],
   "source": [
    "plt.imshow(X_train[1])"
   ]
  },
  {
   "cell_type": "code",
   "execution_count": 195,
   "id": "biological-bulgaria",
   "metadata": {
    "ExecuteTime": {
     "end_time": "2021-02-14T09:29:55.507482Z",
     "start_time": "2021-02-14T09:29:55.503489Z"
    }
   },
   "outputs": [
    {
     "data": {
      "text/plain": [
       "array([2, 0, 9, ..., 3, 9, 2], dtype=int64)"
      ]
     },
     "execution_count": 195,
     "metadata": {},
     "output_type": "execute_result"
    }
   ],
   "source": [
    "predict_y"
   ]
  }
 ],
 "metadata": {
  "kernelspec": {
   "display_name": "Python 3",
   "language": "python",
   "name": "python3"
  },
  "language_info": {
   "codemirror_mode": {
    "name": "ipython",
    "version": 3
   },
   "file_extension": ".py",
   "mimetype": "text/x-python",
   "name": "python",
   "nbconvert_exporter": "python",
   "pygments_lexer": "ipython3",
   "version": "3.7.9"
  },
  "nbTranslate": {
   "displayLangs": [
    "zh-cn"
   ],
   "hotkey": "alt-t",
   "langInMainMenu": true,
   "sourceLang": "en",
   "targetLang": "zh-cn",
   "useGoogleTranslate": true
  },
  "varInspector": {
   "cols": {
    "lenName": 16,
    "lenType": 16,
    "lenVar": 40
   },
   "kernels_config": {
    "python": {
     "delete_cmd_postfix": "",
     "delete_cmd_prefix": "del ",
     "library": "var_list.py",
     "varRefreshCmd": "print(var_dic_list())"
    },
    "r": {
     "delete_cmd_postfix": ") ",
     "delete_cmd_prefix": "rm(",
     "library": "var_list.r",
     "varRefreshCmd": "cat(var_dic_list()) "
    }
   },
   "position": {
    "height": "355.724px",
    "left": "1261.45px",
    "right": "20px",
    "top": "134px",
    "width": "339.006px"
   },
   "types_to_exclude": [
    "module",
    "function",
    "builtin_function_or_method",
    "instance",
    "_Feature"
   ],
   "window_display": false
  }
 },
 "nbformat": 4,
 "nbformat_minor": 5
}
